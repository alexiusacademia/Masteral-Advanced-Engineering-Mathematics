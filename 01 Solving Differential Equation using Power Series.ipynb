{
 "cells": [
  {
   "cell_type": "markdown",
   "metadata": {},
   "source": [
    "<center><h1>Solving Differential Equation</h1></center>\n",
    "\n",
    "## Series Solutions for Differential Equations\n",
    "\n",
    "#### Example 1.\n",
    "Solve for $$ y' - y = 0 $$\n",
    "Let's assume that the following solution exists $$ y = f(x) = C_o + C_1 x + C_2 x^2 + C_3 x^3 + ... $$\n",
    "$$ y = \\sum_{n=0}^\\infty C_n x^n $$\n",
    "Now get the derivative of the above power series,\n",
    "$$ y' = \\sum_{n=1}^\\infty n C_n x^{n-1} $$\n",
    "Now substitute these values to the original equation for the values of $y'$ and $y$.\n",
    "$$ \\sum_{n=1}^\\infty n C_n x^{n-1} - \\sum_{n=0}^\\infty C_n x^n = 0 $$\n",
    "\n",
    "The main goal of this process is to determine the values of the coefficients.\n",
    "To make the terms similar, we need to make changes to the indices of the summation to make them both n=0.\n",
    "$$ \\sum_{n=0}^\\infty (n+1) C_{n+1} x^{n-1+1} - \\sum_{n=0}^\\infty C_n x^n = 0 $$\n",
    "$$ \\sum_{n=0}^\\infty (n+1) C_{n+1} x^{n} - \\sum_{n=0}^\\infty C_n x^n = 0 $$\n",
    "\n",
    "Combining the summations, we get\n",
    "$$ \\sum_{n=0}^\\infty [(n+1) C_{n+1} x^n - C_n x^n] = 0 $$\n",
    "\n",
    "Now factoring out the $x^n$,\n",
    "$$ \\sum_{n=0}^\\infty [(n+1) C_{n+1} - C_n] x^n = 0 $$\n",
    "\n",
    "Basically to satisfy the equation, \n",
    "$$ (n+1) C_{n+1} - C_n = 0 $$\n",
    "\n",
    "This will now give us a recursive relationship,\n",
    "$$ C_{n+1} = \\frac{C_n}{n+1} $$\n",
    "\n",
    "Now we plugin some values to $n$ starting from zero,\n",
    "\\begin{align}\n",
    "&n = 0 \\quad \\quad C_1 = \\frac{C_0}{0 + 1} \\quad \\quad C_1 = C_0\\\\\n",
    "&n = 1 \\quad \\quad C_2 = \\frac{C_1}{1 + 1} \\quad \\quad C_2 = \\frac{C_1}{2} \\quad \\quad C_2 = \\frac{C_0}{2}\\\\\n",
    "&n = 2 \\quad \\quad C_3 = \\frac{C_2}{2 + 1} \\quad \\quad C_3 = \\frac{\\frac{C_0}{2}}{3} \\quad \\quad C_3 = \\frac{1}{3} \\frac{C_0}{2} \\quad \\quad C_3 = \\frac{C_0}{3!}\\\\\n",
    "&n = 3 \\quad \\quad C_4 = \\frac{C_3}{3 + 1} \\quad \\quad C_4 = \\frac{1}{4} \\frac{C_0}{3!} \\quad \\quad C_4 = \\frac{C_0}{4!}\n",
    "\\end{align}\n",
    "\n",
    "To summarize the above series, we could write,\n",
    "<center><div style=\"font-size: 14px; border: 1px solid black; width:200px; padding: 5px;\">$C_n = \\frac{C_0}{n!}$</div></center>\n",
    "\n",
    "We then plug this to our assumed solution of the differential equation,\n",
    "\\begin{align}\n",
    "& y = \\sum_{n=0}^\\infty C_n x^n \\\\\n",
    "& y = \\sum_{n=0}^\\infty \\frac{C_0}{n!} x^n \\\\\n",
    "& y = C_0 \\sum_{n=0}^\\infty \\frac{x^n}{n!} \\\\\n",
    "\\end{align}\n",
    "\n",
    "<center><div style=\"font-size: 16px; font-weight: bold; border: 1px solid black; width:200px; padding: 5px;\">$ y = C_0 c^x $</div></center>"
   ]
  }
 ],
 "metadata": {
  "anaconda-cloud": {},
  "kernelspec": {
   "display_name": "Python [Root]",
   "language": "python",
   "name": "Python [Root]"
  },
  "language_info": {
   "codemirror_mode": {
    "name": "ipython",
    "version": 3
   },
   "file_extension": ".py",
   "mimetype": "text/x-python",
   "name": "python",
   "nbconvert_exporter": "python",
   "pygments_lexer": "ipython3",
   "version": "3.5.2"
  }
 },
 "nbformat": 4,
 "nbformat_minor": 0
}
